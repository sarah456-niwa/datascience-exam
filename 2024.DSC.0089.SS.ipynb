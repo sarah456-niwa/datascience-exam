{
 "cells": [
  {
   "cell_type": "markdown",
   "id": "cb62c636-589f-4577-b43c-7d4c0a7dfcbb",
   "metadata": {},
   "source": [
    "### QUESTION ONE"
   ]
  },
  {
   "cell_type": "markdown",
   "id": "6ff8a444-8a7f-4c30-bbd3-69946351d0ac",
   "metadata": {},
   "source": [
    "### a.)"
   ]
  },
  {
   "cell_type": "code",
   "execution_count": 19,
   "id": "e42770fc-3b3d-4f5d-932f-ffc3453f1c56",
   "metadata": {},
   "outputs": [],
   "source": [
    "#  we shall first import the data set with data."
   ]
  },
  {
   "cell_type": "code",
   "execution_count": 1,
   "id": "9b3a41c0-eebe-4285-9dc4-b06db1b81857",
   "metadata": {},
   "outputs": [],
   "source": [
    "import pandas as pd    # importing pandas since it is the library for data sets."
   ]
  },
  {
   "cell_type": "code",
   "execution_count": 3,
   "id": "b1c96f4a-2d0c-4e55-9581-a86b998ce857",
   "metadata": {},
   "outputs": [
    {
     "data": {
      "text/html": [
       "<div>\n",
       "<style scoped>\n",
       "    .dataframe tbody tr th:only-of-type {\n",
       "        vertical-align: middle;\n",
       "    }\n",
       "\n",
       "    .dataframe tbody tr th {\n",
       "        vertical-align: top;\n",
       "    }\n",
       "\n",
       "    .dataframe thead th {\n",
       "        text-align: right;\n",
       "    }\n",
       "</style>\n",
       "<table border=\"1\" class=\"dataframe\">\n",
       "  <thead>\n",
       "    <tr style=\"text-align: right;\">\n",
       "      <th></th>\n",
       "      <th>Age</th>\n",
       "      <th>Sex</th>\n",
       "      <th>Marital_status</th>\n",
       "      <th>Number_of_children</th>\n",
       "      <th>Family_size</th>\n",
       "      <th>Education-degree_recode</th>\n",
       "      <th>Education-degree_recode 2</th>\n",
       "      <th>Education</th>\n",
       "      <th>Race_ethnicity-multi_recode</th>\n",
       "      <th>Immigrate-year</th>\n",
       "      <th>Birthplace_recode</th>\n",
       "      <th>Speaks_English</th>\n",
       "      <th>Employment_status</th>\n",
       "      <th>Income-wages</th>\n",
       "      <th>Region_recode</th>\n",
       "      <th>Region-division_recode</th>\n",
       "      <th>Moved</th>\n",
       "      <th>Year</th>\n",
       "      <th>state</th>\n",
       "    </tr>\n",
       "  </thead>\n",
       "  <tbody>\n",
       "    <tr>\n",
       "      <th>0</th>\n",
       "      <td>30</td>\n",
       "      <td>Male</td>\n",
       "      <td>Married, spouse present</td>\n",
       "      <td>2</td>\n",
       "      <td>4</td>\n",
       "      <td>Master’s or professional degree</td>\n",
       "      <td>Master or professional degree</td>\n",
       "      <td>Master or PhD or professional degree</td>\n",
       "      <td>Non-Hispanic White</td>\n",
       "      <td>0</td>\n",
       "      <td>U.S. state, territory, or outlying region</td>\n",
       "      <td>Yes, speaks only English</td>\n",
       "      <td>Employed</td>\n",
       "      <td>63000</td>\n",
       "      <td>South</td>\n",
       "      <td>East South Central</td>\n",
       "      <td>Same house</td>\n",
       "      <td>2020</td>\n",
       "      <td>Tennessee</td>\n",
       "    </tr>\n",
       "    <tr>\n",
       "      <th>1</th>\n",
       "      <td>28</td>\n",
       "      <td>Female</td>\n",
       "      <td>Married, spouse present</td>\n",
       "      <td>1 child present</td>\n",
       "      <td>3</td>\n",
       "      <td>Master’s or professional degree</td>\n",
       "      <td>Master or professional degree</td>\n",
       "      <td>Master or PhD or professional degree</td>\n",
       "      <td>Non-Hispanic White</td>\n",
       "      <td>0</td>\n",
       "      <td>U.S. state, territory, or outlying region</td>\n",
       "      <td>Yes, speaks only English</td>\n",
       "      <td>Employed</td>\n",
       "      <td>46000</td>\n",
       "      <td>South</td>\n",
       "      <td>East South Central</td>\n",
       "      <td>Same house</td>\n",
       "      <td>2020</td>\n",
       "      <td>Tennessee</td>\n",
       "    </tr>\n",
       "    <tr>\n",
       "      <th>2</th>\n",
       "      <td>34</td>\n",
       "      <td>Male</td>\n",
       "      <td>Married, spouse present</td>\n",
       "      <td>1 child present</td>\n",
       "      <td>3</td>\n",
       "      <td>Bachelor’s degree</td>\n",
       "      <td>Bachelor degree</td>\n",
       "      <td>Associate or Bachelor degree</td>\n",
       "      <td>Non-Hispanic White</td>\n",
       "      <td>0</td>\n",
       "      <td>U.S. state, territory, or outlying region</td>\n",
       "      <td>Yes, speaks only English</td>\n",
       "      <td>Employed</td>\n",
       "      <td>45000</td>\n",
       "      <td>South</td>\n",
       "      <td>East South Central</td>\n",
       "      <td>Same house</td>\n",
       "      <td>2020</td>\n",
       "      <td>Tennessee</td>\n",
       "    </tr>\n",
       "    <tr>\n",
       "      <th>3</th>\n",
       "      <td>58</td>\n",
       "      <td>Female</td>\n",
       "      <td>Married, spouse absent</td>\n",
       "      <td>1 child present</td>\n",
       "      <td>2</td>\n",
       "      <td>1 or more years of college, no degree</td>\n",
       "      <td>1 or more years of college, no degree</td>\n",
       "      <td>1 or more years of college, no degree</td>\n",
       "      <td>Non-Hispanic White</td>\n",
       "      <td>0</td>\n",
       "      <td>U.S. state, territory, or outlying region</td>\n",
       "      <td>Yes, speaks only English</td>\n",
       "      <td>Employed</td>\n",
       "      <td>55000</td>\n",
       "      <td>South</td>\n",
       "      <td>East South Central</td>\n",
       "      <td>Same house</td>\n",
       "      <td>2020</td>\n",
       "      <td>Tennessee</td>\n",
       "    </tr>\n",
       "    <tr>\n",
       "      <th>4</th>\n",
       "      <td>39</td>\n",
       "      <td>Male</td>\n",
       "      <td>Never married/single</td>\n",
       "      <td>0 children present</td>\n",
       "      <td>1</td>\n",
       "      <td>Bachelor’s degree</td>\n",
       "      <td>Bachelor degree</td>\n",
       "      <td>Associate or Bachelor degree</td>\n",
       "      <td>Non-Hispanic White</td>\n",
       "      <td>0</td>\n",
       "      <td>U.S. state, territory, or outlying region</td>\n",
       "      <td>Yes, speaks only English</td>\n",
       "      <td>Employed</td>\n",
       "      <td>12000</td>\n",
       "      <td>South</td>\n",
       "      <td>East South Central</td>\n",
       "      <td>Same house</td>\n",
       "      <td>2020</td>\n",
       "      <td>Tennessee</td>\n",
       "    </tr>\n",
       "    <tr>\n",
       "      <th>...</th>\n",
       "      <td>...</td>\n",
       "      <td>...</td>\n",
       "      <td>...</td>\n",
       "      <td>...</td>\n",
       "      <td>...</td>\n",
       "      <td>...</td>\n",
       "      <td>...</td>\n",
       "      <td>...</td>\n",
       "      <td>...</td>\n",
       "      <td>...</td>\n",
       "      <td>...</td>\n",
       "      <td>...</td>\n",
       "      <td>...</td>\n",
       "      <td>...</td>\n",
       "      <td>...</td>\n",
       "      <td>...</td>\n",
       "      <td>...</td>\n",
       "      <td>...</td>\n",
       "      <td>...</td>\n",
       "    </tr>\n",
       "    <tr>\n",
       "      <th>4360</th>\n",
       "      <td>67</td>\n",
       "      <td>Male</td>\n",
       "      <td>Married, spouse present</td>\n",
       "      <td>0 children present</td>\n",
       "      <td>2</td>\n",
       "      <td>Bachelor’s degree</td>\n",
       "      <td>Bachelor degree</td>\n",
       "      <td>Associate or Bachelor degree</td>\n",
       "      <td>Non-Hispanic White</td>\n",
       "      <td>0</td>\n",
       "      <td>U.S. state, territory, or outlying region</td>\n",
       "      <td>Yes, speaks only English</td>\n",
       "      <td>Employed</td>\n",
       "      <td>40000</td>\n",
       "      <td>Midwest</td>\n",
       "      <td>West North Central</td>\n",
       "      <td>Same house</td>\n",
       "      <td>2020</td>\n",
       "      <td>North Dakota</td>\n",
       "    </tr>\n",
       "    <tr>\n",
       "      <th>4361</th>\n",
       "      <td>48</td>\n",
       "      <td>Male</td>\n",
       "      <td>Married, spouse present</td>\n",
       "      <td>4</td>\n",
       "      <td>6</td>\n",
       "      <td>Associate’s degree</td>\n",
       "      <td>Associate degree</td>\n",
       "      <td>Associate or Bachelor degree</td>\n",
       "      <td>Non-Hispanic White</td>\n",
       "      <td>0</td>\n",
       "      <td>U.S. state, territory, or outlying region</td>\n",
       "      <td>Yes, speaks only English</td>\n",
       "      <td>Employed</td>\n",
       "      <td>65000</td>\n",
       "      <td>Midwest</td>\n",
       "      <td>West North Central</td>\n",
       "      <td>Same house</td>\n",
       "      <td>2020</td>\n",
       "      <td>North Dakota</td>\n",
       "    </tr>\n",
       "    <tr>\n",
       "      <th>4362</th>\n",
       "      <td>33</td>\n",
       "      <td>Male</td>\n",
       "      <td>Married, spouse absent</td>\n",
       "      <td>0 children present</td>\n",
       "      <td>1</td>\n",
       "      <td>Associate’s degree</td>\n",
       "      <td>Associate degree</td>\n",
       "      <td>Associate or Bachelor degree</td>\n",
       "      <td>Non-Hispanic Black</td>\n",
       "      <td>2017</td>\n",
       "      <td>Africa</td>\n",
       "      <td>Yes, speaks very well</td>\n",
       "      <td>Employed</td>\n",
       "      <td>45000</td>\n",
       "      <td>Midwest</td>\n",
       "      <td>West North Central</td>\n",
       "      <td>Same house</td>\n",
       "      <td>2020</td>\n",
       "      <td>North Dakota</td>\n",
       "    </tr>\n",
       "    <tr>\n",
       "      <th>4363</th>\n",
       "      <td>22</td>\n",
       "      <td>Female</td>\n",
       "      <td>Never married/single</td>\n",
       "      <td>0 children present</td>\n",
       "      <td>2</td>\n",
       "      <td>1 or more years of college, no degree</td>\n",
       "      <td>1 or more years of college, no degree</td>\n",
       "      <td>1 or more years of college, no degree</td>\n",
       "      <td>Non-Hispanic White</td>\n",
       "      <td>0</td>\n",
       "      <td>U.S. state, territory, or outlying region</td>\n",
       "      <td>Yes, speaks only English</td>\n",
       "      <td>Employed</td>\n",
       "      <td>500</td>\n",
       "      <td>Midwest</td>\n",
       "      <td>West North Central</td>\n",
       "      <td>Same house</td>\n",
       "      <td>2020</td>\n",
       "      <td>North Dakota</td>\n",
       "    </tr>\n",
       "    <tr>\n",
       "      <th>4364</th>\n",
       "      <td>49</td>\n",
       "      <td>Female</td>\n",
       "      <td>Married, spouse present</td>\n",
       "      <td>2</td>\n",
       "      <td>4</td>\n",
       "      <td>Master’s or professional degree</td>\n",
       "      <td>Master or professional degree</td>\n",
       "      <td>Master or PhD or professional degree</td>\n",
       "      <td>Non-Hispanic White</td>\n",
       "      <td>0</td>\n",
       "      <td>U.S. state, territory, or outlying region</td>\n",
       "      <td>Yes, speaks only English</td>\n",
       "      <td>Employed</td>\n",
       "      <td>498000</td>\n",
       "      <td>Midwest</td>\n",
       "      <td>West North Central</td>\n",
       "      <td>Same house</td>\n",
       "      <td>2020</td>\n",
       "      <td>North Dakota</td>\n",
       "    </tr>\n",
       "  </tbody>\n",
       "</table>\n",
       "<p>4365 rows × 19 columns</p>\n",
       "</div>"
      ],
      "text/plain": [
       "      Age     Sex           Marital_status  Number_of_children  Family_size  \\\n",
       "0      30    Male  Married, spouse present                   2            4   \n",
       "1      28  Female  Married, spouse present     1 child present            3   \n",
       "2      34    Male  Married, spouse present     1 child present            3   \n",
       "3      58  Female   Married, spouse absent     1 child present            2   \n",
       "4      39    Male     Never married/single  0 children present            1   \n",
       "...   ...     ...                      ...                 ...          ...   \n",
       "4360   67    Male  Married, spouse present  0 children present            2   \n",
       "4361   48    Male  Married, spouse present                   4            6   \n",
       "4362   33    Male   Married, spouse absent  0 children present            1   \n",
       "4363   22  Female     Never married/single  0 children present            2   \n",
       "4364   49  Female  Married, spouse present                   2            4   \n",
       "\n",
       "                    Education-degree_recode  \\\n",
       "0           Master’s or professional degree   \n",
       "1           Master’s or professional degree   \n",
       "2                         Bachelor’s degree   \n",
       "3     1 or more years of college, no degree   \n",
       "4                         Bachelor’s degree   \n",
       "...                                     ...   \n",
       "4360                      Bachelor’s degree   \n",
       "4361                     Associate’s degree   \n",
       "4362                     Associate’s degree   \n",
       "4363  1 or more years of college, no degree   \n",
       "4364        Master’s or professional degree   \n",
       "\n",
       "                  Education-degree_recode 2  \\\n",
       "0             Master or professional degree   \n",
       "1             Master or professional degree   \n",
       "2                           Bachelor degree   \n",
       "3     1 or more years of college, no degree   \n",
       "4                           Bachelor degree   \n",
       "...                                     ...   \n",
       "4360                        Bachelor degree   \n",
       "4361                       Associate degree   \n",
       "4362                       Associate degree   \n",
       "4363  1 or more years of college, no degree   \n",
       "4364          Master or professional degree   \n",
       "\n",
       "                                  Education Race_ethnicity-multi_recode  \\\n",
       "0      Master or PhD or professional degree          Non-Hispanic White   \n",
       "1      Master or PhD or professional degree          Non-Hispanic White   \n",
       "2              Associate or Bachelor degree          Non-Hispanic White   \n",
       "3     1 or more years of college, no degree          Non-Hispanic White   \n",
       "4              Associate or Bachelor degree          Non-Hispanic White   \n",
       "...                                     ...                         ...   \n",
       "4360           Associate or Bachelor degree          Non-Hispanic White   \n",
       "4361           Associate or Bachelor degree          Non-Hispanic White   \n",
       "4362           Associate or Bachelor degree          Non-Hispanic Black   \n",
       "4363  1 or more years of college, no degree          Non-Hispanic White   \n",
       "4364   Master or PhD or professional degree          Non-Hispanic White   \n",
       "\n",
       "      Immigrate-year                          Birthplace_recode  \\\n",
       "0                  0  U.S. state, territory, or outlying region   \n",
       "1                  0  U.S. state, territory, or outlying region   \n",
       "2                  0  U.S. state, territory, or outlying region   \n",
       "3                  0  U.S. state, territory, or outlying region   \n",
       "4                  0  U.S. state, territory, or outlying region   \n",
       "...              ...                                        ...   \n",
       "4360               0  U.S. state, territory, or outlying region   \n",
       "4361               0  U.S. state, territory, or outlying region   \n",
       "4362            2017                                     Africa   \n",
       "4363               0  U.S. state, territory, or outlying region   \n",
       "4364               0  U.S. state, territory, or outlying region   \n",
       "\n",
       "                Speaks_English Employment_status  Income-wages Region_recode  \\\n",
       "0     Yes, speaks only English          Employed         63000         South   \n",
       "1     Yes, speaks only English          Employed         46000         South   \n",
       "2     Yes, speaks only English          Employed         45000         South   \n",
       "3     Yes, speaks only English          Employed         55000         South   \n",
       "4     Yes, speaks only English          Employed         12000         South   \n",
       "...                        ...               ...           ...           ...   \n",
       "4360  Yes, speaks only English          Employed         40000       Midwest   \n",
       "4361  Yes, speaks only English          Employed         65000       Midwest   \n",
       "4362     Yes, speaks very well          Employed         45000       Midwest   \n",
       "4363  Yes, speaks only English          Employed           500       Midwest   \n",
       "4364  Yes, speaks only English          Employed        498000       Midwest   \n",
       "\n",
       "     Region-division_recode       Moved  Year         state  \n",
       "0        East South Central  Same house  2020     Tennessee  \n",
       "1        East South Central  Same house  2020     Tennessee  \n",
       "2        East South Central  Same house  2020     Tennessee  \n",
       "3        East South Central  Same house  2020     Tennessee  \n",
       "4        East South Central  Same house  2020     Tennessee  \n",
       "...                     ...         ...   ...           ...  \n",
       "4360     West North Central  Same house  2020  North Dakota  \n",
       "4361     West North Central  Same house  2020  North Dakota  \n",
       "4362     West North Central  Same house  2020  North Dakota  \n",
       "4363     West North Central  Same house  2020  North Dakota  \n",
       "4364     West North Central  Same house  2020  North Dakota  \n",
       "\n",
       "[4365 rows x 19 columns]"
      ]
     },
     "execution_count": 3,
     "metadata": {},
     "output_type": "execute_result"
    }
   ],
   "source": [
    "df = pd.read_csv('Wages.csv')\n",
    "df"
   ]
  },
  {
   "cell_type": "code",
   "execution_count": 4,
   "id": "5c9e41d3-d224-42f3-bdaf-9836b9f7466f",
   "metadata": {},
   "outputs": [
    {
     "data": {
      "text/plain": [
       "0        63000\n",
       "1        46000\n",
       "2        45000\n",
       "3        55000\n",
       "4        12000\n",
       "         ...  \n",
       "4360     40000\n",
       "4361     65000\n",
       "4362     45000\n",
       "4363       500\n",
       "4364    498000\n",
       "Name: Income-wages, Length: 4365, dtype: int64"
      ]
     },
     "execution_count": 4,
     "metadata": {},
     "output_type": "execute_result"
    }
   ],
   "source": [
    "income = df['Income-wages'] # selecting the yearly income.\n",
    "income"
   ]
  },
  {
   "cell_type": "code",
   "execution_count": 5,
   "id": "ae353eb5-a391-40c8-898a-c45adf8f05bd",
   "metadata": {},
   "outputs": [
    {
     "name": "stdout",
     "output_type": "stream",
     "text": [
      "58704.16494845361\n"
     ]
    }
   ],
   "source": [
    "# we shall need the mean or the median in order to find the typical yearly income \n",
    "mean = df ['Income-wages'].mean()\n",
    "print (mean)"
   ]
  },
  {
   "cell_type": "code",
   "execution_count": 6,
   "id": "77dd339f-3d75-4d89-98d6-6eaafaade41e",
   "metadata": {},
   "outputs": [
    {
     "name": "stdout",
     "output_type": "stream",
     "text": [
      "41000.0\n"
     ]
    }
   ],
   "source": [
    "median = df ['Income-wages'].median()\n",
    "print(median)"
   ]
  },
  {
   "cell_type": "markdown",
   "id": "347b9655-40b5-4df2-88fb-1c7bea9647e3",
   "metadata": {},
   "source": [
    "### b.)"
   ]
  },
  {
   "cell_type": "code",
   "execution_count": 7,
   "id": "b811e6f7-7419-4342-bf21-18960ae33b9a",
   "metadata": {},
   "outputs": [],
   "source": [
    "# we shall know if that the yearly incomes of these 4,365 people vary by visualising the incomes on the histogram"
   ]
  },
  {
   "cell_type": "code",
   "execution_count": 8,
   "id": "3da3afeb-7c22-4ed4-a8c9-9dfa703cc462",
   "metadata": {},
   "outputs": [],
   "source": [
    "import matplotlib.pyplot as plt\n",
    "import seaborn as sns"
   ]
  },
  {
   "cell_type": "code",
   "execution_count": 9,
   "id": "af177242-fd63-4b69-890f-075b122fcb50",
   "metadata": {},
   "outputs": [
    {
     "data": {
      "image/png": "[encoded data removed]",
      "text/plain": [
       "<Figure size 1000x500 with 1 Axes>"
      ]
     },
     "metadata": {},
     "output_type": "display_data"
    }
   ],
   "source": [
    "plt.figure(figsize = (10,5)) \n",
    "sns.histplot(df['Income-wages'], bins = 40, kde= False)\n",
    "plt.title('VISUALISATION OF INCOME VARIATION YEARLY')\n",
    "plt.xlabel('Yearly Income')\n",
    "plt.ylabel('Frequency')\n",
    "plt.show()"
   ]
  },
  {
   "cell_type": "markdown",
   "id": "b1f2add3-0ff0-4e68-8221-db1ef106e4a1",
   "metadata": {},
   "source": [
    "### C.)"
   ]
  },
  {
   "cell_type": "code",
   "execution_count": 10,
   "id": "09eab0e0-4ec2-4864-902d-fcc317299952",
   "metadata": {},
   "outputs": [
    {
     "name": "stdout",
     "output_type": "stream",
     "text": [
      "If there is no variability,\n",
      "Standard Deviation is 0\n",
      "IQR 0\n"
     ]
    }
   ],
   "source": [
    "print(f'If there is no variability,') # prints out the quoted statement\n",
    "SD = '0'\n",
    "print(f'Standard Deviation is {SD}') # outputs the quoted statement and the value of the SD defined\n",
    "IQR = '0'\n",
    "print(f'IQR {IQR}') # outputs the quoted statement and the value of the IQR defined"
   ]
  },
  {
   "cell_type": "markdown",
   "id": "b614c586-626d-4595-a6a4-484aa40c4e25",
   "metadata": {},
   "source": [
    "### d.)"
   ]
  },
  {
   "cell_type": "code",
   "execution_count": 11,
   "id": "5dd2597c-1dc1-4449-8975-2c8d9c275b11",
   "metadata": {},
   "outputs": [
    {
     "name": "stdout",
     "output_type": "stream",
     "text": [
      "all the mean, median, min, max, Q1, Q3 are equal to 58,704.16\n"
     ]
    }
   ],
   "source": [
    "constant_income = df['Income-wages'].mean()\n",
    "print(f'all the mean, median, min, max, Q1, Q3 are equal to {constant_income:,.2f}' )"
   ]
  },
  {
   "cell_type": "markdown",
   "id": "124d3b63-5107-44d5-b7a7-9c20f8c50f82",
   "metadata": {},
   "source": [
    "### e.)"
   ]
  },
  {
   "cell_type": "markdown",
   "id": "7492a7c1-2873-46da-958b-557a8ee231e2",
   "metadata": {},
   "source": [
    "#### A box plot of variation of income with education level"
   ]
  },
  {
   "cell_type": "code",
   "execution_count": 12,
   "id": "dbce0f72-b360-4578-9f3f-76989178b0d0",
   "metadata": {},
   "outputs": [
    {
     "data": {
      "image/png": "[encoded data removed]",
      "text/plain": [
       "<Figure size 800x500 with 1 Axes>"
      ]
     },
     "metadata": {},
     "output_type": "display_data"
    }
   ],
   "source": [
    "plt.figure (figsize = (8,5))\n",
    "sns.boxplot(x='Education-degree_recode', y= 'Income-wages', data=df)\n",
    "plt.title ('VARIATION OF INCOME WITH EDUCATION')\n",
    "plt.xticks(rotation = 40)\n",
    "plt.ylabel('Yearly Income')\n",
    "plt.show()"
   ]
  },
  {
   "cell_type": "markdown",
   "id": "f41e1b20-6c50-4348-8cf0-a7af8ca3481a",
   "metadata": {},
   "source": [
    "### A box plot of variation of income with education level"
   ]
  },
  {
   "cell_type": "code",
   "execution_count": 13,
   "id": "35091009-9c44-44c7-b768-1218701405d7",
   "metadata": {},
   "outputs": [
    {
     "data": {
      "image/png": "[encoded data removed]",
      "text/plain": [
       "<Figure size 800x500 with 1 Axes>"
      ]
     },
     "metadata": {},
     "output_type": "display_data"
    }
   ],
   "source": [
    "plt.figure (figsize = (8,5))\n",
    "sns.boxplot(x='Region_recode', y= 'Income-wages', data=df)\n",
    "plt.title ('VARIATION OF INCOME WITH REGION')\n",
    "plt.xticks(rotation = 40)\n",
    "plt.ylabel('Yearly Income')\n",
    "plt.show()"
   ]
  },
  {
   "cell_type": "code",
   "execution_count": null,
   "id": "495edb08-7cc0-45a5-8c9b-ebadfb4536ff",
   "metadata": {},
   "outputs": [],
   "source": []
  },
  {
   "cell_type": "markdown",
   "id": "5daa1d1e-43a1-49d8-adaa-9dddb78e041f",
   "metadata": {},
   "source": [
    "### QUESTION TWO"
   ]
  },
  {
   "cell_type": "code",
   "execution_count": 14,
   "id": "515a2b2b-e5a0-4d9c-b5c4-ad87b9796a1e",
   "metadata": {},
   "outputs": [],
   "source": [
    "# according to me the student_prfomance_dataset that was provided would provide enough data for this question."
   ]
  },
  {
   "cell_type": "code",
   "execution_count": 21,
   "id": "e5b960c9-8637-41b8-ba61-db57ce7be550",
   "metadata": {},
   "outputs": [
    {
     "data": {
      "text/html": [
       "<div>\n",
       "<style scoped>\n",
       "    .dataframe tbody tr th:only-of-type {\n",
       "        vertical-align: middle;\n",
       "    }\n",
       "\n",
       "    .dataframe tbody tr th {\n",
       "        vertical-align: top;\n",
       "    }\n",
       "\n",
       "    .dataframe thead th {\n",
       "        text-align: right;\n",
       "    }\n",
       "</style>\n",
       "<table border=\"1\" class=\"dataframe\">\n",
       "  <thead>\n",
       "    <tr style=\"text-align: right;\">\n",
       "      <th></th>\n",
       "      <th>StudentID</th>\n",
       "      <th>Gender</th>\n",
       "      <th>Age</th>\n",
       "      <th>StudyHoursPerWeek</th>\n",
       "      <th>AttendanceRate</th>\n",
       "      <th>GPA</th>\n",
       "      <th>Major</th>\n",
       "      <th>PartTimeJob</th>\n",
       "      <th>ExtraCurricularActivities</th>\n",
       "    </tr>\n",
       "  </thead>\n",
       "  <tbody>\n",
       "    <tr>\n",
       "      <th>0</th>\n",
       "      <td>1</td>\n",
       "      <td>Male</td>\n",
       "      <td>24</td>\n",
       "      <td>37</td>\n",
       "      <td>90.75</td>\n",
       "      <td>3.47</td>\n",
       "      <td>Arts</td>\n",
       "      <td>Yes</td>\n",
       "      <td>No</td>\n",
       "    </tr>\n",
       "    <tr>\n",
       "      <th>1</th>\n",
       "      <td>2</td>\n",
       "      <td>Female</td>\n",
       "      <td>22</td>\n",
       "      <td>37</td>\n",
       "      <td>74.90</td>\n",
       "      <td>2.32</td>\n",
       "      <td>Education</td>\n",
       "      <td>No</td>\n",
       "      <td>No</td>\n",
       "    </tr>\n",
       "    <tr>\n",
       "      <th>2</th>\n",
       "      <td>3</td>\n",
       "      <td>Male</td>\n",
       "      <td>22</td>\n",
       "      <td>10</td>\n",
       "      <td>53.36</td>\n",
       "      <td>2.38</td>\n",
       "      <td>Business</td>\n",
       "      <td>No</td>\n",
       "      <td>No</td>\n",
       "    </tr>\n",
       "    <tr>\n",
       "      <th>3</th>\n",
       "      <td>4</td>\n",
       "      <td>Male</td>\n",
       "      <td>24</td>\n",
       "      <td>10</td>\n",
       "      <td>70.26</td>\n",
       "      <td>3.46</td>\n",
       "      <td>Science</td>\n",
       "      <td>Yes</td>\n",
       "      <td>No</td>\n",
       "    </tr>\n",
       "    <tr>\n",
       "      <th>4</th>\n",
       "      <td>5</td>\n",
       "      <td>Male</td>\n",
       "      <td>18</td>\n",
       "      <td>19</td>\n",
       "      <td>74.87</td>\n",
       "      <td>2.31</td>\n",
       "      <td>Education</td>\n",
       "      <td>Yes</td>\n",
       "      <td>No</td>\n",
       "    </tr>\n",
       "    <tr>\n",
       "      <th>...</th>\n",
       "      <td>...</td>\n",
       "      <td>...</td>\n",
       "      <td>...</td>\n",
       "      <td>...</td>\n",
       "      <td>...</td>\n",
       "      <td>...</td>\n",
       "      <td>...</td>\n",
       "      <td>...</td>\n",
       "      <td>...</td>\n",
       "    </tr>\n",
       "    <tr>\n",
       "      <th>495</th>\n",
       "      <td>496</td>\n",
       "      <td>Male</td>\n",
       "      <td>22</td>\n",
       "      <td>37</td>\n",
       "      <td>76.61</td>\n",
       "      <td>2.97</td>\n",
       "      <td>Science</td>\n",
       "      <td>No</td>\n",
       "      <td>No</td>\n",
       "    </tr>\n",
       "    <tr>\n",
       "      <th>496</th>\n",
       "      <td>497</td>\n",
       "      <td>Male</td>\n",
       "      <td>23</td>\n",
       "      <td>11</td>\n",
       "      <td>56.29</td>\n",
       "      <td>3.20</td>\n",
       "      <td>Science</td>\n",
       "      <td>No</td>\n",
       "      <td>No</td>\n",
       "    </tr>\n",
       "    <tr>\n",
       "      <th>497</th>\n",
       "      <td>498</td>\n",
       "      <td>Female</td>\n",
       "      <td>20</td>\n",
       "      <td>6</td>\n",
       "      <td>56.64</td>\n",
       "      <td>3.20</td>\n",
       "      <td>Science</td>\n",
       "      <td>No</td>\n",
       "      <td>Yes</td>\n",
       "    </tr>\n",
       "    <tr>\n",
       "      <th>498</th>\n",
       "      <td>499</td>\n",
       "      <td>Male</td>\n",
       "      <td>22</td>\n",
       "      <td>18</td>\n",
       "      <td>57.18</td>\n",
       "      <td>2.05</td>\n",
       "      <td>Business</td>\n",
       "      <td>No</td>\n",
       "      <td>Yes</td>\n",
       "    </tr>\n",
       "    <tr>\n",
       "      <th>499</th>\n",
       "      <td>500</td>\n",
       "      <td>Female</td>\n",
       "      <td>24</td>\n",
       "      <td>21</td>\n",
       "      <td>96.99</td>\n",
       "      <td>2.64</td>\n",
       "      <td>Engineering</td>\n",
       "      <td>No</td>\n",
       "      <td>No</td>\n",
       "    </tr>\n",
       "  </tbody>\n",
       "</table>\n",
       "<p>500 rows × 9 columns</p>\n",
       "</div>"
      ],
      "text/plain": [
       "     StudentID  Gender  Age  StudyHoursPerWeek  AttendanceRate   GPA  \\\n",
       "0            1    Male   24                 37           90.75  3.47   \n",
       "1            2  Female   22                 37           74.90  2.32   \n",
       "2            3    Male   22                 10           53.36  2.38   \n",
       "3            4    Male   24                 10           70.26  3.46   \n",
       "4            5    Male   18                 19           74.87  2.31   \n",
       "..         ...     ...  ...                ...             ...   ...   \n",
       "495        496    Male   22                 37           76.61  2.97   \n",
       "496        497    Male   23                 11           56.29  3.20   \n",
       "497        498  Female   20                  6           56.64  3.20   \n",
       "498        499    Male   22                 18           57.18  2.05   \n",
       "499        500  Female   24                 21           96.99  2.64   \n",
       "\n",
       "           Major PartTimeJob ExtraCurricularActivities  \n",
       "0           Arts         Yes                        No  \n",
       "1      Education          No                        No  \n",
       "2       Business          No                        No  \n",
       "3        Science         Yes                        No  \n",
       "4      Education         Yes                        No  \n",
       "..           ...         ...                       ...  \n",
       "495      Science          No                        No  \n",
       "496      Science          No                        No  \n",
       "497      Science          No                       Yes  \n",
       "498     Business          No                       Yes  \n",
       "499  Engineering          No                        No  \n",
       "\n",
       "[500 rows x 9 columns]"
      ]
     },
     "execution_count": 21,
     "metadata": {},
     "output_type": "execute_result"
    }
   ],
   "source": [
    "# I therefore import it.\n",
    "student_df = pd.read_csv('student_performance_data.csv')\n",
    "student_df"
   ]
  },
  {
   "cell_type": "code",
   "execution_count": 28,
   "id": "4230840d-fdee-4e4b-a2ab-d85869f86621",
   "metadata": {},
   "outputs": [
    {
     "data": {
      "text/plain": [
       "<pandas.core.groupby.generic.DataFrameGroupBy object at 0x000002BB9D8968D0>"
      ]
     },
     "execution_count": 28,
     "metadata": {},
     "output_type": "execute_result"
    }
   ],
   "source": [
    "grouped_gender = student_df.groupby (['Gender','Major'])\n",
    "grouped_gender"
   ]
  },
  {
   "cell_type": "code",
   "execution_count": null,
   "id": "fd73f0aa-66c2-40e6-bb4c-de8747474781",
   "metadata": {},
   "outputs": [],
   "source": []
  },
  {
   "cell_type": "code",
   "execution_count": 31,
   "id": "418214dc-7dd5-4d60-b58f-1e97ec00ab6b",
   "metadata": {},
   "outputs": [],
   "source": [
    "# Obtaining data from major colomn, gender column and studay hours per week "
   ]
  },
  {
   "cell_type": "code",
   "execution_count": 32,
   "id": "361ed8c1-4806-4a44-84ef-03652f128a5f",
   "metadata": {},
   "outputs": [
    {
     "data": {
      "text/html": [
       "<div>\n",
       "<style scoped>\n",
       "    .dataframe tbody tr th:only-of-type {\n",
       "        vertical-align: middle;\n",
       "    }\n",
       "\n",
       "    .dataframe tbody tr th {\n",
       "        vertical-align: top;\n",
       "    }\n",
       "\n",
       "    .dataframe thead th {\n",
       "        text-align: right;\n",
       "    }\n",
       "</style>\n",
       "<table border=\"1\" class=\"dataframe\">\n",
       "  <thead>\n",
       "    <tr style=\"text-align: right;\">\n",
       "      <th></th>\n",
       "      <th>Major</th>\n",
       "      <th>Gender</th>\n",
       "      <th>StudyHoursPerWeek</th>\n",
       "    </tr>\n",
       "  </thead>\n",
       "  <tbody>\n",
       "    <tr>\n",
       "      <th>0</th>\n",
       "      <td>Arts</td>\n",
       "      <td>Male</td>\n",
       "      <td>37</td>\n",
       "    </tr>\n",
       "    <tr>\n",
       "      <th>1</th>\n",
       "      <td>Education</td>\n",
       "      <td>Female</td>\n",
       "      <td>37</td>\n",
       "    </tr>\n",
       "    <tr>\n",
       "      <th>2</th>\n",
       "      <td>Business</td>\n",
       "      <td>Male</td>\n",
       "      <td>10</td>\n",
       "    </tr>\n",
       "    <tr>\n",
       "      <th>3</th>\n",
       "      <td>Science</td>\n",
       "      <td>Male</td>\n",
       "      <td>10</td>\n",
       "    </tr>\n",
       "    <tr>\n",
       "      <th>4</th>\n",
       "      <td>Education</td>\n",
       "      <td>Male</td>\n",
       "      <td>19</td>\n",
       "    </tr>\n",
       "    <tr>\n",
       "      <th>...</th>\n",
       "      <td>...</td>\n",
       "      <td>...</td>\n",
       "      <td>...</td>\n",
       "    </tr>\n",
       "    <tr>\n",
       "      <th>495</th>\n",
       "      <td>Science</td>\n",
       "      <td>Male</td>\n",
       "      <td>37</td>\n",
       "    </tr>\n",
       "    <tr>\n",
       "      <th>496</th>\n",
       "      <td>Science</td>\n",
       "      <td>Male</td>\n",
       "      <td>11</td>\n",
       "    </tr>\n",
       "    <tr>\n",
       "      <th>497</th>\n",
       "      <td>Science</td>\n",
       "      <td>Female</td>\n",
       "      <td>6</td>\n",
       "    </tr>\n",
       "    <tr>\n",
       "      <th>498</th>\n",
       "      <td>Business</td>\n",
       "      <td>Male</td>\n",
       "      <td>18</td>\n",
       "    </tr>\n",
       "    <tr>\n",
       "      <th>499</th>\n",
       "      <td>Engineering</td>\n",
       "      <td>Female</td>\n",
       "      <td>21</td>\n",
       "    </tr>\n",
       "  </tbody>\n",
       "</table>\n",
       "<p>500 rows × 3 columns</p>\n",
       "</div>"
      ],
      "text/plain": [
       "           Major  Gender  StudyHoursPerWeek\n",
       "0           Arts    Male                 37\n",
       "1      Education  Female                 37\n",
       "2       Business    Male                 10\n",
       "3        Science    Male                 10\n",
       "4      Education    Male                 19\n",
       "..           ...     ...                ...\n",
       "495      Science    Male                 37\n",
       "496      Science    Male                 11\n",
       "497      Science  Female                  6\n",
       "498     Business    Male                 18\n",
       "499  Engineering  Female                 21\n",
       "\n",
       "[500 rows x 3 columns]"
      ]
     },
     "execution_count": 32,
     "metadata": {},
     "output_type": "execute_result"
    }
   ],
   "source": [
    "grouped_data = student_df[['Major', 'Gender', 'StudyHoursPerWeek']]\n",
    "grouped_data "
   ]
  },
  {
   "cell_type": "code",
   "execution_count": 33,
   "id": "652b403a-6088-4e55-8ad7-1388fcedcd3d",
   "metadata": {},
   "outputs": [],
   "source": [
    "# obtaining the major with the male gender"
   ]
  },
  {
   "cell_type": "code",
   "execution_count": 34,
   "id": "adf7a044-1011-4536-a00a-20da9e6197ba",
   "metadata": {},
   "outputs": [
    {
     "name": "stdout",
     "output_type": "stream",
     "text": [
      "     StudentID Gender  Age  StudyHoursPerWeek  AttendanceRate   GPA  \\\n",
      "0            1   Male   24                 37           90.75  3.47   \n",
      "2            3   Male   22                 10           53.36  2.38   \n",
      "3            4   Male   24                 10           70.26  3.46   \n",
      "4            5   Male   18                 19           74.87  2.31   \n",
      "6            7   Male   19                 21           55.33  3.93   \n",
      "..         ...    ...  ...                ...             ...   ...   \n",
      "492        493   Male   18                 29           62.71  2.45   \n",
      "494        495   Male   24                 23           67.13  2.11   \n",
      "495        496   Male   22                 37           76.61  2.97   \n",
      "496        497   Male   23                 11           56.29  3.20   \n",
      "498        499   Male   22                 18           57.18  2.05   \n",
      "\n",
      "         Major PartTimeJob ExtraCurricularActivities  \n",
      "0         Arts         Yes                        No  \n",
      "2     Business          No                        No  \n",
      "3      Science         Yes                        No  \n",
      "4    Education         Yes                        No  \n",
      "6         Arts          No                        No  \n",
      "..         ...         ...                       ...  \n",
      "492  Education         Yes                        No  \n",
      "494   Business          No                       Yes  \n",
      "495    Science          No                        No  \n",
      "496    Science          No                        No  \n",
      "498   Business          No                       Yes  \n",
      "\n",
      "[244 rows x 9 columns]\n"
     ]
    }
   ],
   "source": [
    "males = student_df [student_df ['Gender'] == 'Male']\n",
    "print(males)"
   ]
  },
  {
   "cell_type": "code",
   "execution_count": 40,
   "id": "8cd613ee-c0a2-4d9f-8fb2-eedc579a30a8",
   "metadata": {},
   "outputs": [
    {
     "name": "stdout",
     "output_type": "stream",
     "text": [
      "35\n"
     ]
    }
   ],
   "source": [
    "# we are now going to obtain the male gender with the highest study hours per week\n",
    "Highest_male = males['StudyHoursPerWeek'].idxmax() # idxmax returs the maximum value\n",
    "print(Highest_male) "
   ]
  },
  {
   "cell_type": "code",
   "execution_count": 42,
   "id": "971b66d5-80ac-4ff2-b5b0-728546f3387b",
   "metadata": {},
   "outputs": [
    {
     "name": "stdout",
     "output_type": "stream",
     "text": [
      "     StudentID  Gender  Age  StudyHoursPerWeek  AttendanceRate   GPA  \\\n",
      "1            2  Female   22                 37           74.90  2.32   \n",
      "5            6  Female   20                 17           86.01  2.47   \n",
      "9           10  Female   24                  1           63.32  3.96   \n",
      "14          15  Female   19                 34           78.66  3.73   \n",
      "16          17  Female   23                 31           70.22  2.23   \n",
      "..         ...     ...  ...                ...             ...   ...   \n",
      "487        488  Female   18                 39           84.30  2.80   \n",
      "490        491  Female   23                  4           98.65  3.45   \n",
      "493        494  Female   22                 34           76.09  3.41   \n",
      "497        498  Female   20                  6           56.64  3.20   \n",
      "499        500  Female   24                 21           96.99  2.64   \n",
      "\n",
      "           Major PartTimeJob ExtraCurricularActivities  \n",
      "1      Education          No                        No  \n",
      "5       Business         Yes                        No  \n",
      "9    Engineering         Yes                       Yes  \n",
      "14          Arts         Yes                       Yes  \n",
      "16          Arts         Yes                       Yes  \n",
      "..           ...         ...                       ...  \n",
      "487     Business         Yes                       Yes  \n",
      "490  Engineering         Yes                       Yes  \n",
      "493  Engineering          No                        No  \n",
      "497      Science          No                       Yes  \n",
      "499  Engineering          No                        No  \n",
      "\n",
      "[256 rows x 9 columns]\n"
     ]
    }
   ],
   "source": [
    "# we shall obtain the major with female gender\n",
    "females = student_df[student_df['Gender']=='Female']\n",
    "print(females)"
   ]
  },
  {
   "cell_type": "code",
   "execution_count": 45,
   "id": "9462a321-e645-4175-8975-8571775b4c6c",
   "metadata": {},
   "outputs": [
    {
     "name": "stdout",
     "output_type": "stream",
     "text": [
      "18\n"
     ]
    }
   ],
   "source": [
    "# Obtaining the female gender with the highest study hours per week\n",
    "highest_female = females['StudyHoursPerWeek'] .idxmax()\n",
    "print (highest_female)"
   ]
  },
  {
   "cell_type": "markdown",
   "id": "f10c29ab-1050-4d19-89ba-5f1fa4f7fe6d",
   "metadata": {},
   "source": [
    "### b.)"
   ]
  },
  {
   "cell_type": "code",
   "execution_count": 47,
   "id": "2eac16be-09d8-4b0e-9a2d-de6516ffcc23",
   "metadata": {},
   "outputs": [
    {
     "data": {
      "text/html": [
       "<div>\n",
       "<style scoped>\n",
       "    .dataframe tbody tr th:only-of-type {\n",
       "        vertical-align: middle;\n",
       "    }\n",
       "\n",
       "    .dataframe tbody tr th {\n",
       "        vertical-align: top;\n",
       "    }\n",
       "\n",
       "    .dataframe thead th {\n",
       "        text-align: right;\n",
       "    }\n",
       "</style>\n",
       "<table border=\"1\" class=\"dataframe\">\n",
       "  <thead>\n",
       "    <tr style=\"text-align: right;\">\n",
       "      <th></th>\n",
       "      <th>Gender</th>\n",
       "      <th>AttendanceRate</th>\n",
       "    </tr>\n",
       "  </thead>\n",
       "  <tbody>\n",
       "    <tr>\n",
       "      <th>0</th>\n",
       "      <td>Male</td>\n",
       "      <td>90.75</td>\n",
       "    </tr>\n",
       "    <tr>\n",
       "      <th>1</th>\n",
       "      <td>Female</td>\n",
       "      <td>74.90</td>\n",
       "    </tr>\n",
       "    <tr>\n",
       "      <th>2</th>\n",
       "      <td>Male</td>\n",
       "      <td>53.36</td>\n",
       "    </tr>\n",
       "    <tr>\n",
       "      <th>3</th>\n",
       "      <td>Male</td>\n",
       "      <td>70.26</td>\n",
       "    </tr>\n",
       "    <tr>\n",
       "      <th>4</th>\n",
       "      <td>Male</td>\n",
       "      <td>74.87</td>\n",
       "    </tr>\n",
       "    <tr>\n",
       "      <th>...</th>\n",
       "      <td>...</td>\n",
       "      <td>...</td>\n",
       "    </tr>\n",
       "    <tr>\n",
       "      <th>495</th>\n",
       "      <td>Male</td>\n",
       "      <td>76.61</td>\n",
       "    </tr>\n",
       "    <tr>\n",
       "      <th>496</th>\n",
       "      <td>Male</td>\n",
       "      <td>56.29</td>\n",
       "    </tr>\n",
       "    <tr>\n",
       "      <th>497</th>\n",
       "      <td>Female</td>\n",
       "      <td>56.64</td>\n",
       "    </tr>\n",
       "    <tr>\n",
       "      <th>498</th>\n",
       "      <td>Male</td>\n",
       "      <td>57.18</td>\n",
       "    </tr>\n",
       "    <tr>\n",
       "      <th>499</th>\n",
       "      <td>Female</td>\n",
       "      <td>96.99</td>\n",
       "    </tr>\n",
       "  </tbody>\n",
       "</table>\n",
       "<p>500 rows × 2 columns</p>\n",
       "</div>"
      ],
      "text/plain": [
       "     Gender  AttendanceRate\n",
       "0      Male           90.75\n",
       "1    Female           74.90\n",
       "2      Male           53.36\n",
       "3      Male           70.26\n",
       "4      Male           74.87\n",
       "..      ...             ...\n",
       "495    Male           76.61\n",
       "496    Male           56.29\n",
       "497  Female           56.64\n",
       "498    Male           57.18\n",
       "499  Female           96.99\n",
       "\n",
       "[500 rows x 2 columns]"
      ]
     },
     "execution_count": 47,
     "metadata": {},
     "output_type": "execute_result"
    }
   ],
   "source": [
    "# finding gender column and attendance rate column\n",
    "gender_and_attendance = student_df[['Gender','AttendanceRate']] # Obtained from PANDAS NOTEBOOK\n",
    "gender_and_attendance"
   ]
  },
  {
   "cell_type": "code",
   "execution_count": 48,
   "id": "264cfe55-0e08-401d-905d-819b704ef89a",
   "metadata": {},
   "outputs": [
    {
     "data": {
      "text/plain": [
       "Gender\n",
       "Female    75.925742\n",
       "Male      74.009016\n",
       "Name: AttendanceRate, dtype: float64"
      ]
     },
     "execution_count": 48,
     "metadata": {},
     "output_type": "execute_result"
    }
   ],
   "source": [
    "highly_attended = student_df.groupby('Gender')['AttendanceRate'].mean()\n",
    "highly_attended"
   ]
  },
  {
   "cell_type": "code",
   "execution_count": null,
   "id": "44e67493-39bf-4a43-9d8f-aa2b82cc927e",
   "metadata": {},
   "outputs": [],
   "source": []
  },
  {
   "cell_type": "markdown",
   "id": "796b0f54-1b60-4c47-b759-f2e093029b1c",
   "metadata": {},
   "source": [
    "### Bonus question"
   ]
  },
  {
   "cell_type": "markdown",
   "id": "109ec60c-3804-40d6-94f8-28d4e74ea541",
   "metadata": {},
   "source": [
    "### a.)"
   ]
  },
  {
   "cell_type": "code",
   "execution_count": 1,
   "id": "88395ca5-c652-4837-af0d-4523088155b6",
   "metadata": {},
   "outputs": [],
   "source": [
    "import numpy as np"
   ]
  },
  {
   "cell_type": "code",
   "execution_count": 2,
   "id": "0607698b-e38f-408b-ae44-88c9a15d5f35",
   "metadata": {},
   "outputs": [
    {
     "name": "stdout",
     "output_type": "stream",
     "text": [
      "[[ 1  2  3]\n",
      " [ 4  5  6]\n",
      " [ 7  8  9]\n",
      " [10 11 12]\n",
      " [13 14 15]]\n"
     ]
    }
   ],
   "source": [
    "# let a 5x3 matrix be X and a 3x2 matrix be Y.\n",
    "import numpy as np\n",
    "X = np.array([[1, 2, 3],[4, 5, 6],[7, 8, 9],[10, 11, 12],[13, 14, 15]])\n",
    "print(X)\n",
    "\n"
   ]
  },
  {
   "cell_type": "code",
   "execution_count": 3,
   "id": "28c47c67-49de-45d3-8091-ca3b984d7f42",
   "metadata": {},
   "outputs": [
    {
     "name": "stdout",
     "output_type": "stream",
     "text": [
      "[[1 4]\n",
      " [2 5]\n",
      " [3 6]]\n"
     ]
    }
   ],
   "source": [
    "Y = np.array([[1, 4],[2, 5],[3, 6]])\n",
    "print(Y)"
   ]
  },
  {
   "cell_type": "code",
   "execution_count": 15,
   "id": "81bf2deb-9c5a-4050-9aa3-04bcbca3a272",
   "metadata": {},
   "outputs": [
    {
     "name": "stdout",
     "output_type": "stream",
     "text": [
      "[[ 14  32]\n",
      " [ 32  77]\n",
      " [ 50 122]\n",
      " [ 68 167]\n",
      " [ 86 212]]\n"
     ]
    }
   ],
   "source": [
    "# multiplying X with Y\n",
    "result = np.dot(X,Y)\n",
    "print(result)"
   ]
  },
  {
   "cell_type": "markdown",
   "id": "dadf130f-4693-4413-84b7-330410127b92",
   "metadata": {},
   "source": [
    "### b.)"
   ]
  },
  {
   "cell_type": "code",
   "execution_count": 7,
   "id": "725d0d43-4dca-47d6-90fd-1aaddfd33343",
   "metadata": {},
   "outputs": [
    {
     "name": "stdout",
     "output_type": "stream",
     "text": [
      "[[1 0 0]\n",
      " [0 1 0]\n",
      " [0 0 1]]\n"
     ]
    }
   ],
   "source": [
    "identity_matrix = np.eye((3), dtype =int)\n",
    "print(identity_matrix)"
   ]
  },
  {
   "cell_type": "markdown",
   "id": "2f3a0c09-0673-4200-8fe9-840bda7a28d1",
   "metadata": {},
   "source": [
    "### c.)"
   ]
  },
  {
   "cell_type": "code",
   "execution_count": 8,
   "id": "5b1048e1-97d3-4d6c-aacf-2191d806f37b",
   "metadata": {},
   "outputs": [
    {
     "name": "stdout",
     "output_type": "stream",
     "text": [
      "[10 11 12 13 14 15 16 17 18 19 20 21 22 23 24 25 26 27 28 29 30 31 32 33\n",
      " 34 35 36 37 38 39 40 41 42 43 44 45 46 47 48 49]\n"
     ]
    }
   ],
   "source": [
    "vector = np.arange(10, 50)\n",
    "print(vector)"
   ]
  },
  {
   "cell_type": "markdown",
   "id": "fcb6a31c-9db9-4ca2-9a5a-589255cb77bf",
   "metadata": {},
   "source": [
    "### d.)"
   ]
  },
  {
   "cell_type": "code",
   "execution_count": 9,
   "id": "88e58ba4-39aa-4ecb-88f9-8d2d9953102c",
   "metadata": {},
   "outputs": [
    {
     "name": "stdout",
     "output_type": "stream",
     "text": [
      "[0 0 0 0 0 0 0 0 0 0]\n"
     ]
    }
   ],
   "source": [
    "# create a null vector of size 10\n",
    "null = np.zeros((10), dtype = int)\n",
    "print(null)"
   ]
  },
  {
   "cell_type": "markdown",
   "id": "513cad7d-b52d-41f7-976c-0497e46043d6",
   "metadata": {},
   "source": [
    "### e.)"
   ]
  },
  {
   "cell_type": "code",
   "execution_count": 10,
   "id": "a6e21b00-41f8-4e1d-9267-d8140d13410b",
   "metadata": {},
   "outputs": [
    {
     "name": "stdout",
     "output_type": "stream",
     "text": [
      "[[[0.97618947 0.87914795 0.50452321]\n",
      "  [0.07342901 0.3477528  0.36386053]\n",
      "  [0.55241691 0.76218231 0.88861874]]\n",
      "\n",
      " [[0.9450332  0.07007737 0.98133669]\n",
      "  [0.22423266 0.31927464 0.53122543]\n",
      "  [0.24650633 0.54611999 0.27651925]]\n",
      "\n",
      " [[0.37486122 0.39104232 0.3851664 ]\n",
      "  [0.18554076 0.52795886 0.76261459]\n",
      "  [0.46451895 0.0155779  0.12570522]]]\n"
     ]
    }
   ],
   "source": [
    "random_array = np.random.random((3, 3, 3))\n",
    "print(random_array)"
   ]
  },
  {
   "cell_type": "markdown",
   "id": "8b57d784-d2b5-4903-96df-638f49e3540a",
   "metadata": {},
   "source": [
    "### f.)"
   ]
  },
  {
   "cell_type": "code",
   "execution_count": 11,
   "id": "6c87dd95-24a0-4efa-8786-eb71f761e225",
   "metadata": {},
   "outputs": [
    {
     "name": "stdout",
     "output_type": "stream",
     "text": [
      "[[0 0 0 0 0]\n",
      " [1 0 0 0 0]\n",
      " [0 2 0 0 0]\n",
      " [0 0 3 0 0]\n",
      " [0 0 0 4 0]]\n"
     ]
    }
   ],
   "source": [
    "#Create a 5*5 matrix with values 1,2,3,4 just below the diagonal\n",
    "matrix = np.zeros((5, 5) , dtype=int) # Create a 5x5 zero matrix\n",
    "values_below_diagonal = [1, 2, 3, 4]  # Define the values to place below the diagonal\n",
    "for i, value in enumerate(values_below_diagonal, start=1):  # Use a loop to place the values\n",
    "    matrix[i, i-1] = value\n",
    "print(matrix)"
   ]
  },
  {
   "cell_type": "markdown",
   "id": "97239a8b-b75c-44a6-8379-e305acb96ea1",
   "metadata": {},
   "source": [
    "### g.)"
   ]
  },
  {
   "cell_type": "code",
   "execution_count": 13,
   "id": "e6601e1f-9775-4781-8389-bb778fd36096",
   "metadata": {},
   "outputs": [
    {
     "name": "stdout",
     "output_type": "stream",
     "text": [
      "[[0.51459293 0.98276394 0.42391728 0.18860398 0.04080669]\n",
      " [0.73983632 0.08807996 0.10298775 0.16507795 0.57135911]\n",
      " [0.8716317  0.34877493 0.39388828 0.11057503 0.79694897]\n",
      " [0.51400823 0.84185196 0.8603027  0.05075179 0.0741541 ]\n",
      " [0.02995903 0.21764284 0.80995349 0.40882199 0.90352424]]\n"
     ]
    }
   ],
   "source": [
    "# Normalize a 5*5 random matrix\n",
    "X = np.random.rand(5, 5) # Generate a 5x5 random matrix\n",
    "print(X)\n"
   ]
  },
  {
   "cell_type": "code",
   "execution_count": 14,
   "id": "886ce180-f4f9-4828-9394-967b04080154",
   "metadata": {},
   "outputs": [
    {
     "name": "stdout",
     "output_type": "stream",
     "text": [
      "[[0.50863918 1.         0.4134721  0.16650308 0.01138497]\n",
      " [0.74503949 0.06099983 0.07664604 0.14181173 0.56821714]\n",
      " [0.88336306 0.33460775 0.38195568 0.08460914 0.8049811 ]\n",
      " [0.50802551 0.85210825 0.87147291 0.02182269 0.04638418]\n",
      " [0.         0.19698032 0.81862976 0.3976291  0.91683533]]\n"
     ]
    }
   ],
   "source": [
    "# Alternatively, for arbitrary values: matrix = np.random.random((5, 5)) * 100\n",
    "\n",
    "# Normalize the matrix\n",
    "min_value = X.min()\n",
    "max_value = X.max()\n",
    "normalized_matrix = (X - min_value) / (max_value - min_value)\n",
    "print(normalized_matrix)"
   ]
  },
  {
   "cell_type": "code",
   "execution_count": null,
   "id": "5401fefe-267a-463e-9951-22ab3aa52a93",
   "metadata": {},
   "outputs": [],
   "source": []
  }
 ],
 "metadata": {
  "kernelspec": {
   "display_name": "Python 3 (ipykernel)",
   "language": "python",
   "name": "python3"
  },
  "language_info": {
   "codemirror_mode": {
    "name": "ipython",
    "version": 3
   },
   "file_extension": ".py",
   "mimetype": "text/x-python",
   "name": "python",
   "nbconvert_exporter": "python",
   "pygments_lexer": "ipython3",
   "version": "3.12.5"
  }
 },
 "nbformat": 4,
 "nbformat_minor": 5
}
